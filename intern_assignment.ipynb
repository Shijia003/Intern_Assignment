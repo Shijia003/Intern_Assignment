{
 "cells": [
  {
   "cell_type": "markdown",
   "metadata": {},
   "source": [
    "# Data Augmentation to improve accuracy:"
   ]
  },
  {
   "cell_type": "code",
   "execution_count": null,
   "metadata": {},
   "outputs": [],
   "source": [
    "import random\n",
    "import os\n",
    "from scipy import ndarray\n",
    "import skimage as sk\n",
    "from skimage import transform\n",
    "from skimage import util\n",
    "from skimage import io\n",
    "\n",
    "def random_rotation(image_array: ndarray):\n",
    "    # pick a random degree of rotation between 25% on the left and 25% on the right\n",
    "    random_degree = random.uniform(-25, 25)\n",
    "    return sk.transform.rotate(image_array, random_degree)\n",
    "\n",
    "def random_noise(image_array: ndarray):\n",
    "    # add random noise to the image\n",
    "    return sk.util.random_noise(image_array)\n",
    "\n",
    "def horizontal_flip(image_array: ndarray):\n",
    "    # horizontal flip doesn't need skimage, it's easy as flipping the image array of pixels !\n",
    "    return image_array[:, ::-1]\n",
    "def vertical_flip(image_array: ndarray):\n",
    "    return image_array[::-1, :]"
   ]
  },
  {
   "cell_type": "code",
   "execution_count": null,
   "metadata": {},
   "outputs": [],
   "source": [
    "available_transformations = {\n",
    "    'rotate': random_rotation,\n",
    "    'noise': random_noise,\n",
    "    'horizontal_flip': horizontal_flip,\n",
    "    'vertical_flip':vertical_flip\n",
    "}"
   ]
  },
  {
   "cell_type": "code",
   "execution_count": null,
   "metadata": {},
   "outputs": [],
   "source": [
    "# our folder path containing some images\n",
    "folder_path = '/Users/shijiazeng/Desktop/2moreroots'\n",
    "# the number of file to generate\n",
    "num_files_desired = 100\n",
    "\n",
    "# loop on all files of the folder and build a list of files paths\n",
    "images = [os.path.join(folder_path, f) for f in os.listdir(folder_path) if os.path.isfile(os.path.join(folder_path, f))]"
   ]
  },
  {
   "cell_type": "code",
   "execution_count": null,
   "metadata": {},
   "outputs": [],
   "source": [
    "num_generated_files = 0\n",
    "while num_generated_files <= num_files_desired:\n",
    "    # random image from the folder\n",
    "    image_path = random.choice(images)\n",
    "    # read image as an two dimensional array of pixels\n",
    "    image_to_transform = sk.io.imread(image_path,plugin='matplotlib')\n",
    "    # random num of transformation to apply\n",
    "    num_transformations_to_apply = random.randint(1, len(available_transformations))\n",
    "\n",
    "    num_transformations = 0\n",
    "    transformed_image = None\n",
    "    while num_transformations <= num_transformations_to_apply:\n",
    "        # random transformation to apply for a single image\n",
    "        key = random.choice(list(available_transformations))\n",
    "        transformed_image = available_transformations[key](image_to_transform)\n",
    "        num_transformations += 1\n",
    "        new_file_path = '%s/augmented_image_%s.jpg' % (folder_path, num_generated_files)\n",
    "        io.imsave(new_file_path, transformed_image)\n",
    "    num_generated_files += 1"
   ]
  },
  {
   "cell_type": "markdown",
   "metadata": {},
   "source": [
    "# Split  Dataset  into Train and Validate:"
   ]
  },
  {
   "cell_type": "code",
   "execution_count": null,
   "metadata": {},
   "outputs": [],
   "source": [
    "import glob, shutil, random, os\n",
    "dirpath = '/Users/shijiazeng/Desktop/2moreroots'\n",
    "dst_dir = '/Users/shijiazeng/Desktop/new'\n",
    "\n",
    "filenames = random.sample(os.listdir(dirpath), 45)\n",
    "for fname in filenames:\n",
    "    srcpath = os.path.join(dirpath, fname)\n",
    "    shutil.move(srcpath, dst_dir)"
   ]
  },
  {
   "cell_type": "markdown",
   "metadata": {},
   "source": [
    "# Data Preprocessing:"
   ]
  },
  {
   "cell_type": "code",
   "execution_count": 1,
   "metadata": {},
   "outputs": [],
   "source": [
    "import pandas as pd\n",
    "import numpy as np \n",
    "from tqdm import tqdm\n",
    "import cv2\n",
    "import os\n",
    "import shutil\n",
    "import itertools\n",
    "import imutils\n",
    "import random\n",
    "import matplotlib.pyplot as plt\n",
    "from sklearn.metrics import accuracy_score, confusion_matrix\n",
    "\n",
    "from keras.applications.resnet50 import ResNet50, preprocess_input\n",
    "from keras.preprocessing.image import ImageDataGenerator\n",
    "from keras import layers\n",
    "from keras.models import Model, Sequential\n",
    "from keras.optimizers import RMSprop\n",
    "from keras.callbacks import EarlyStopping\n",
    "\n",
    "\n",
    "RANDOM_SEED = 123"
   ]
  },
  {
   "cell_type": "code",
   "execution_count": 2,
   "metadata": {},
   "outputs": [],
   "source": [
    "def load_data(dir_path, img_size=(100,100)):\n",
    "    \"\"\"\n",
    "    Load resized images as np.arrays to workspace\n",
    "    \"\"\"\n",
    "    X = []\n",
    "    y = []\n",
    "    i = 0\n",
    "    labels = dict()\n",
    "    for path in tqdm(sorted(os.listdir(dir_path))):\n",
    "        if not path.startswith('.'):\n",
    "            labels[i] = path\n",
    "            for file in os.listdir(dir_path + path):\n",
    "                if not file.startswith('.'):\n",
    "                    img = cv2.imread(dir_path + path + '/' + file)\n",
    "                    X.append(img)\n",
    "                    y.append(i)\n",
    "            i += 1\n",
    "    X = np.array(X)\n",
    "    y = np.array(y)\n",
    "    print(f'{len(X)} images loaded from {dir_path} directory.')\n",
    "    return X, y, labels"
   ]
  },
  {
   "cell_type": "code",
   "execution_count": 3,
   "metadata": {},
   "outputs": [],
   "source": [
    "def preprocess_imgs(set_name, img_size):\n",
    "    \"\"\"\n",
    "    Resize and apply VGG-15 preprocessing\n",
    "    \"\"\"\n",
    "    set_new = []\n",
    "    for img in set_name:\n",
    "        img = cv2.resize(\n",
    "            img,\n",
    "            dsize=img_size,\n",
    "            interpolation=cv2.INTER_CUBIC\n",
    "        )\n",
    "        set_new.append(preprocess_input(img))\n",
    "    return np.array(set_new)"
   ]
  },
  {
   "cell_type": "code",
   "execution_count": 4,
   "metadata": {},
   "outputs": [],
   "source": [
    "def plot_history(history):\n",
    "    plt.figure(figsize=(15,5))\n",
    "\n",
    "    plt.subplot(1,2,1)\n",
    "    plt.plot(history.history['accuracy'])\n",
    "    plt.plot(history.history['val_accuracy'])\n",
    "    plt.title('model accuracy')\n",
    "    plt.ylabel('accuracy')\n",
    "    plt.xlabel('epoch')\n",
    "    plt.legend(['train', 'validate'], loc='upper left')\n",
    "\n",
    "    plt.subplot(1,2,2)\n",
    "    plt.plot(history.history['loss'])\n",
    "    plt.plot(history.history['val_loss'])\n",
    "    plt.title('model loss')\n",
    "    plt.ylabel('loss')\n",
    "    plt.xlabel('epoch')\n",
    "    plt.legend(['train', 'validate'], loc='upper left')\n",
    "\n",
    "    plt.show()"
   ]
  },
  {
   "cell_type": "code",
   "execution_count": 5,
   "metadata": {},
   "outputs": [
    {
     "name": "stderr",
     "output_type": "stream",
     "text": [
      "100%|██████████| 3/3 [00:00<00:00, 14.23it/s]\n",
      "/opt/anaconda3/lib/python3.7/site-packages/ipykernel_launcher.py:18: VisibleDeprecationWarning: Creating an ndarray from ragged nested sequences (which is a list-or-tuple of lists-or-tuples-or ndarrays with different lengths or shapes) is deprecated. If you meant to do this, you must specify 'dtype=object' when creating the ndarray\n",
      "100%|██████████| 3/3 [00:00<00:00, 38.92it/s]"
     ]
    },
    {
     "name": "stdout",
     "output_type": "stream",
     "text": [
      "212 images loaded from /Users/shijiazeng/Desktop/xrays_database/train/ directory.\n",
      "90 images loaded from /Users/shijiazeng/Desktop/xrays_database/validate/ directory.\n"
     ]
    },
    {
     "name": "stderr",
     "output_type": "stream",
     "text": [
      "\n"
     ]
    }
   ],
   "source": [
    "TRAIN_DIR = '/Users/shijiazeng/Desktop/xrays_database/train/'\n",
    "VAL_DIR = '/Users/shijiazeng/Desktop/xrays_database/validate/'\n",
    "IMG_SIZE = (224,224)\n",
    "\n",
    "# use predefined function to load the image data into workspace\n",
    "X_train, y_train, labels = load_data(TRAIN_DIR, IMG_SIZE)\n",
    "X_val, y_val, _ = load_data(VAL_DIR, IMG_SIZE)"
   ]
  },
  {
   "cell_type": "code",
   "execution_count": 6,
   "metadata": {},
   "outputs": [],
   "source": [
    "X_train_prep = preprocess_imgs(set_name=X_train, img_size=IMG_SIZE)\n",
    "X_val_prep = preprocess_imgs(set_name=X_val, img_size=IMG_SIZE)"
   ]
  },
  {
   "cell_type": "code",
   "execution_count": 7,
   "metadata": {},
   "outputs": [
    {
     "name": "stdout",
     "output_type": "stream",
     "text": [
      "Found 212 images belonging to 2 classes.\n",
      "Found 90 images belonging to 2 classes.\n"
     ]
    }
   ],
   "source": [
    "train_datagen = ImageDataGenerator(\n",
    "    rotation_range=15,\n",
    "    width_shift_range=0.1,\n",
    "    height_shift_range=0.1,\n",
    "    shear_range=0.1,\n",
    "    brightness_range=[0.5, 1.5],\n",
    "    horizontal_flip=True,\n",
    "    vertical_flip=True,\n",
    "    preprocessing_function=preprocess_input\n",
    ")\n",
    "\n",
    "test_datagen = ImageDataGenerator(\n",
    "    preprocessing_function=preprocess_input\n",
    ")\n",
    "\n",
    "train_generator = train_datagen.flow_from_directory(\n",
    "    TRAIN_DIR,\n",
    "    color_mode='rgb',\n",
    "    target_size=IMG_SIZE,\n",
    "    batch_size=32,\n",
    "    class_mode='binary',\n",
    "    seed=RANDOM_SEED\n",
    ")\n",
    "\n",
    "validation_generator = test_datagen.flow_from_directory(\n",
    "    VAL_DIR,\n",
    "    color_mode='rgb',\n",
    "    target_size=IMG_SIZE,\n",
    "    batch_size=32,\n",
    "    class_mode='binary',\n",
    "    seed=RANDOM_SEED\n",
    ")"
   ]
  },
  {
   "cell_type": "markdown",
   "metadata": {},
   "source": [
    "# Build Model:"
   ]
  },
  {
   "cell_type": "code",
   "execution_count": 8,
   "metadata": {},
   "outputs": [],
   "source": [
    "base_model = ResNet50(\n",
    "    weights='imagenet',\n",
    "    include_top=False, \n",
    "    input_shape=IMG_SIZE+(3,)\n",
    ")"
   ]
  },
  {
   "cell_type": "code",
   "execution_count": 9,
   "metadata": {},
   "outputs": [
    {
     "name": "stdout",
     "output_type": "stream",
     "text": [
      "Model: \"sequential\"\n",
      "_________________________________________________________________\n",
      "Layer (type)                 Output Shape              Param #   \n",
      "=================================================================\n",
      "resnet50 (Functional)        (None, 7, 7, 2048)        23587712  \n",
      "_________________________________________________________________\n",
      "flatten (Flatten)            (None, 100352)            0         \n",
      "_________________________________________________________________\n",
      "dense (Dense)                (None, 32)                3211296   \n",
      "_________________________________________________________________\n",
      "dense_1 (Dense)              (None, 1)                 33        \n",
      "=================================================================\n",
      "Total params: 26,799,041\n",
      "Trainable params: 3,211,329\n",
      "Non-trainable params: 23,587,712\n",
      "_________________________________________________________________\n"
     ]
    }
   ],
   "source": [
    "NUM_CLASSES = 1\n",
    "\n",
    "model = Sequential()\n",
    "model.add(base_model)\n",
    "model.add(layers.Flatten())\n",
    "#model.add(layers.Dropout(0.2))\n",
    "model.add(layers.Dense(32, activation='relu'))\n",
    "model.add(layers.Dense(NUM_CLASSES, activation='sigmoid'))\n",
    "\n",
    "model.layers[0].trainable = False\n",
    "\n",
    "model.compile(\n",
    "    loss='binary_crossentropy',\n",
    "    optimizer=RMSprop(lr=1e-4),\n",
    "    metrics=['accuracy']\n",
    ")\n",
    "\n",
    "model.summary()"
   ]
  },
  {
   "cell_type": "code",
   "execution_count": 10,
   "metadata": {},
   "outputs": [
    {
     "name": "stdout",
     "output_type": "stream",
     "text": [
      "Epoch 1/30\n",
      "7/7 [==============================] - 13s 2s/step - loss: 1.3238 - accuracy: 0.6368 - val_loss: 0.4196 - val_accuracy: 0.8000\n",
      "Epoch 2/30\n",
      "7/7 [==============================] - 12s 2s/step - loss: 0.3305 - accuracy: 0.8443 - val_loss: 0.4547 - val_accuracy: 0.7667\n",
      "Epoch 3/30\n",
      "7/7 [==============================] - 12s 2s/step - loss: 0.2788 - accuracy: 0.8726 - val_loss: 0.2452 - val_accuracy: 0.8778\n",
      "Epoch 4/30\n",
      "7/7 [==============================] - 12s 2s/step - loss: 0.1831 - accuracy: 0.9104 - val_loss: 0.2076 - val_accuracy: 0.9333\n",
      "Epoch 5/30\n",
      "7/7 [==============================] - 12s 2s/step - loss: 0.1990 - accuracy: 0.9104 - val_loss: 0.1764 - val_accuracy: 0.9111\n",
      "Epoch 6/30\n",
      "7/7 [==============================] - 13s 2s/step - loss: 0.0913 - accuracy: 0.9717 - val_loss: 0.1685 - val_accuracy: 0.9333\n",
      "Epoch 7/30\n",
      "7/7 [==============================] - 13s 2s/step - loss: 0.3111 - accuracy: 0.8774 - val_loss: 0.1705 - val_accuracy: 0.9444\n",
      "Epoch 8/30\n",
      "7/7 [==============================] - 12s 2s/step - loss: 0.1295 - accuracy: 0.9670 - val_loss: 0.1438 - val_accuracy: 0.9333\n",
      "Epoch 9/30\n",
      "7/7 [==============================] - 12s 2s/step - loss: 0.1767 - accuracy: 0.9481 - val_loss: 0.1693 - val_accuracy: 0.9444\n",
      "Epoch 10/30\n",
      "7/7 [==============================] - 12s 2s/step - loss: 0.0868 - accuracy: 0.9717 - val_loss: 0.1144 - val_accuracy: 0.9333\n",
      "Epoch 11/30\n",
      "7/7 [==============================] - 13s 2s/step - loss: 0.1037 - accuracy: 0.9575 - val_loss: 0.0880 - val_accuracy: 0.9556\n",
      "Epoch 12/30\n",
      "7/7 [==============================] - 12s 2s/step - loss: 0.0748 - accuracy: 0.9623 - val_loss: 0.2050 - val_accuracy: 0.9333\n",
      "Epoch 13/30\n",
      "7/7 [==============================] - 12s 2s/step - loss: 0.0874 - accuracy: 0.9717 - val_loss: 0.1429 - val_accuracy: 0.9444\n",
      "Epoch 14/30\n",
      "7/7 [==============================] - 12s 2s/step - loss: 0.0821 - accuracy: 0.9811 - val_loss: 0.1207 - val_accuracy: 0.9444\n",
      "Epoch 15/30\n",
      "7/7 [==============================] - 12s 2s/step - loss: 0.0457 - accuracy: 0.9858 - val_loss: 0.1683 - val_accuracy: 0.9000\n",
      "Epoch 16/30\n",
      "7/7 [==============================] - 12s 2s/step - loss: 0.0810 - accuracy: 0.9764 - val_loss: 0.1065 - val_accuracy: 0.9444\n",
      "Epoch 17/30\n",
      "7/7 [==============================] - 12s 2s/step - loss: 0.1644 - accuracy: 0.9387 - val_loss: 0.1410 - val_accuracy: 0.9556\n"
     ]
    }
   ],
   "source": [
    "EPOCHS = 30\n",
    "es = EarlyStopping(\n",
    "    monitor='val_accuracy', \n",
    "    mode='max',\n",
    "    patience=6\n",
    ")\n",
    "\n",
    "history = model.fit(\n",
    "    train_generator,\n",
    "    steps_per_epoch=len(train_generator),\n",
    "    epochs=EPOCHS,\n",
    "    validation_data=validation_generator,\n",
    "    validation_steps=len(validation_generator),\n",
    "    callbacks=[es]\n",
    ")"
   ]
  },
  {
   "cell_type": "code",
   "execution_count": 11,
   "metadata": {},
   "outputs": [
    {
     "data": {
      "image/png": "[encoded data removed]",
      "text/plain": [
       "<Figure size 1080x360 with 2 Axes>"
      ]
     },
     "metadata": {
      "needs_background": "light"
     },
     "output_type": "display_data"
    }
   ],
   "source": [
    "plot_history(history)"
   ]
  },
  {
   "cell_type": "code",
   "execution_count": 12,
   "metadata": {},
   "outputs": [
    {
     "name": "stdout",
     "output_type": "stream",
     "text": [
      "Val Accuracy = 0.96\n",
      "[[44  1]\n",
      " [ 3 42]]\n"
     ]
    }
   ],
   "source": [
    "predictions = model.predict(X_val_prep)\n",
    "predictions = [1 if x>0.5 else 0 for x in predictions]\n",
    "\n",
    "accuracy = accuracy_score(y_val, predictions)\n",
    "print('Val Accuracy = %.2f' % accuracy)\n",
    "\n",
    "cm = confusion_matrix(y_val, predictions) \n",
    "print(cm)"
   ]
  },
  {
   "cell_type": "code",
   "execution_count": 18,
   "metadata": {},
   "outputs": [],
   "source": [
    "llist = []\n",
    "label = []\n",
    "for path in sorted(os.listdir(VAL_DIR)):\n",
    "    if not path.startswith('.'):\n",
    "        for file in os.listdir(VAL_DIR + path):\n",
    "            if not file.startswith('.'):\n",
    "                llist.append(file) \n",
    "                label.append(path)"
   ]
  },
  {
   "cell_type": "code",
   "execution_count": 19,
   "metadata": {},
   "outputs": [
    {
     "name": "stdout",
     "output_type": "stream",
     "text": [
      "         filename  true_label predict_label\n",
      "0    tooth_69.jpg       1root         1root\n",
      "1    tooth_82.jpg       1root         1root\n",
      "2    tooth_83.jpg       1root         1root\n",
      "3     tooth_5.jpg       1root         1root\n",
      "4     tooth_7.jpg       1root         1root\n",
      "5    tooth_95.jpg       1root         1root\n",
      "6    tooth_57.jpg       1root         1root\n",
      "7    tooth_84.jpg       1root         1root\n",
      "8    tooth_90.jpg       1root         1root\n",
      "9     tooth_3.jpg       1root         1root\n",
      "10   tooth_46.jpg       1root         1root\n",
      "11    tooth_1.jpg       1root         1root\n",
      "12   tooth_93.jpg       1root         1root\n",
      "13   tooth_79.jpg       1root         1root\n",
      "14  tooth_112.jpg       1root         1root\n",
      "15  tooth_106.jpg       1root         1root\n",
      "16  tooth_104.jpg       1root         1root\n",
      "17   tooth_20.jpg       1root         1root\n",
      "18   tooth_18.jpg       1root         1root\n",
      "19  tooth_101.jpg       1root         1root\n",
      "20  tooth_100.jpg       1root         1root\n",
      "21  tooth_128.jpg       1root         1root\n",
      "22  tooth_117.jpg       1root         1root\n",
      "23  tooth_103.jpg       1root    2moreroots\n",
      "24   tooth_17.jpg       1root         1root\n",
      "25  tooth_133.jpg       1root         1root\n",
      "26  tooth_119.jpg       1root         1root\n",
      "27   tooth_29.jpg       1root         1root\n",
      "28  tooth_130.jpg       1root         1root\n",
      "29   tooth_39.jpg       1root         1root\n",
      "30  tooth_123.jpg       1root         1root\n",
      "31  tooth_136.jpg       1root         1root\n",
      "32   tooth_60.jpg       1root         1root\n",
      "33   tooth_61.jpg       1root         1root\n",
      "34  tooth_150.jpg       1root         1root\n",
      "35   tooth_75.jpg       1root         1root\n",
      "36   tooth_63.jpg       1root         1root\n",
      "37  tooth_146.jpg       1root         1root\n",
      "38   tooth_62.jpg       1root         1root\n",
      "39   tooth_66.jpg       1root         1root\n",
      "40   tooth_72.jpg       1root         1root\n",
      "41  tooth_143.jpg       1root         1root\n",
      "42   tooth_67.jpg       1root         1root\n",
      "43    tooth_8.jpg       1root         1root\n",
      "44   tooth_64.jpg       1root         1root\n",
      "45   tooth_68.jpg  2moreroots    2moreroots\n",
      "46   tooth_54.jpg  2moreroots    2moreroots\n",
      "47   tooth_42.jpg  2moreroots    2moreroots\n",
      "48   tooth_56.jpg  2moreroots    2moreroots\n",
      "49   tooth_81.jpg  2moreroots    2moreroots\n",
      "50   tooth_95.jpg  2moreroots    2moreroots\n",
      "51   tooth_43.jpg  2moreroots    2moreroots\n",
      "52   tooth_47.jpg  2moreroots    2moreroots\n",
      "53   tooth_85.jpg  2moreroots    2moreroots\n",
      "54    tooth_3.jpg  2moreroots    2moreroots\n",
      "55   tooth_78.jpg  2moreroots    2moreroots\n",
      "56   tooth_92.jpg  2moreroots    2moreroots\n",
      "57   tooth_51.jpg  2moreroots    2moreroots\n",
      "58  tooth_148.jpg  2moreroots    2moreroots\n",
      "59   tooth_79.jpg  2moreroots    2moreroots\n",
      "60   tooth_36.jpg  2moreroots    2moreroots\n",
      "61  tooth_113.jpg  2moreroots    2moreroots\n",
      "62   tooth_23.jpg  2moreroots    2moreroots\n",
      "63   tooth_35.jpg  2moreroots    2moreroots\n",
      "64  tooth_139.jpg  2moreroots    2moreroots\n",
      "65  tooth_129.jpg  2moreroots    2moreroots\n",
      "66  tooth_115.jpg  2moreroots    2moreroots\n",
      "67  tooth_128.jpg  2moreroots    2moreroots\n",
      "68   tooth_19.jpg  2moreroots    2moreroots\n",
      "69   tooth_27.jpg  2moreroots         1root\n",
      "70   tooth_32.jpg  2moreroots    2moreroots\n",
      "71  tooth_133.jpg  2moreroots    2moreroots\n",
      "72  tooth_127.jpg  2moreroots    2moreroots\n",
      "73  tooth_125.jpg  2moreroots    2moreroots\n",
      "74   tooth_28.jpg  2moreroots         1root\n",
      "75  tooth_134.jpg  2moreroots    2moreroots\n",
      "76  tooth_123.jpg  2moreroots    2moreroots\n",
      "77  tooth_151.jpg  2moreroots    2moreroots\n",
      "78   tooth_60.jpg  2moreroots    2moreroots\n",
      "79   tooth_61.jpg  2moreroots    2moreroots\n",
      "80   tooth_75.jpg  2moreroots    2moreroots\n",
      "81  tooth_144.jpg  2moreroots         1root\n",
      "82   tooth_77.jpg  2moreroots    2moreroots\n",
      "83   tooth_88.jpg  2moreroots    2moreroots\n",
      "84   tooth_89.jpg  2moreroots    2moreroots\n",
      "85   tooth_72.jpg  2moreroots    2moreroots\n",
      "86   tooth_71.jpg  2moreroots    2moreroots\n",
      "87  tooth_141.jpg  2moreroots    2moreroots\n",
      "88    tooth_9.jpg  2moreroots    2moreroots\n",
      "89   tooth_58.jpg  2moreroots    2moreroots\n"
     ]
    }
   ],
   "source": [
    "val_pred = ['1root' if x==0 else '2moreroots' for x in predictions]\n",
    "pd.set_option('display.max_rows', None)\n",
    "results = pd.DataFrame({\"filename\":llist, \"true_label\":label, \"predict_label\":val_pred})\n",
    "print(results)"
   ]
  }
 ],
 "metadata": {
  "kernelspec": {
   "display_name": "Python 3",
   "language": "python",
   "name": "python3"
  },
  "language_info": {
   "codemirror_mode": {
    "name": "ipython",
    "version": 3
   },
   "file_extension": ".py",
   "mimetype": "text/x-python",
   "name": "python",
   "nbconvert_exporter": "python",
   "pygments_lexer": "ipython3",
   "version": "3.7.9"
  }
 },
 "nbformat": 4,
 "nbformat_minor": 4
}
